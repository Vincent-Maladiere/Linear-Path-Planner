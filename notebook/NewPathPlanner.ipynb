{
 "cells": [
  {
   "cell_type": "markdown",
   "source": [
    "## Inport Libs"
   ],
   "metadata": {}
  },
  {
   "cell_type": "code",
   "execution_count": null,
   "source": [
    "import sys\n",
    "sys.path.append(\"..\")\n",
    "\n",
    "from shapely.geometry import Point, LineString\n",
    "\n",
    "from src.parsing.google_earth_parser import GoogleEarthParser\n",
    "from src.fleet import Fleet\n",
    "\n",
    "%load_ext autoreload\n",
    "%autoreload 2"
   ],
   "outputs": [],
   "metadata": {}
  },
  {
   "cell_type": "markdown",
   "source": [
    "## Parse our KML File"
   ],
   "metadata": {}
  },
  {
   "cell_type": "code",
   "execution_count": null,
   "source": [
    "parser = GoogleEarthParser(workdir=\"../test\")\n",
    "parcel_group = parser.get_parcel_group(\"../test/MobileFence2.kml\")\n",
    "parcel_group.plot_parcels()"
   ],
   "outputs": [],
   "metadata": {}
  },
  {
   "cell_type": "markdown",
   "source": [
    "## Let's choose a watertank position"
   ],
   "metadata": {}
  },
  {
   "cell_type": "code",
   "execution_count": null,
   "source": [
    "parcel_1 = parcel_group.dict_parcel[\"parcel 1\"]\n",
    "parcel_1.water_tanks = [Point(-5, -460).buffer(3)]\n",
    "parcel_1.ls_sweep_axis = LineString([(-50, -470), (100, -410)])\n",
    "parcel_1.small_obstacles = parcel_1.obstacles\n",
    "parcel_1.plot()"
   ],
   "outputs": [],
   "metadata": {}
  },
  {
   "cell_type": "markdown",
   "source": [
    "## Run algo"
   ],
   "metadata": {}
  },
  {
   "cell_type": "code",
   "execution_count": null,
   "source": [
    "fleet = Fleet(\"../test\")\n",
    "fleet.forward(parcel_1)\n",
    "fleet.plot()"
   ],
   "outputs": [],
   "metadata": {}
  },
  {
   "cell_type": "markdown",
   "source": [
    "## Make gif"
   ],
   "metadata": {}
  },
  {
   "cell_type": "code",
   "execution_count": null,
   "source": [
    "fleet.make_gif()"
   ],
   "outputs": [],
   "metadata": {
    "scrolled": false
   }
  },
  {
   "cell_type": "markdown",
   "source": [
    "## Visualize Sequence"
   ],
   "metadata": {}
  },
  {
   "cell_type": "code",
   "execution_count": null,
   "source": [
    "fleet.sequence.plot(False)"
   ],
   "outputs": [],
   "metadata": {}
  },
  {
   "cell_type": "code",
   "execution_count": null,
   "source": [],
   "outputs": [],
   "metadata": {}
  }
 ],
 "metadata": {
  "kernelspec": {
   "display_name": "Python 3 (ipykernel)",
   "language": "python",
   "name": "python3"
  },
  "language_info": {
   "codemirror_mode": {
    "name": "ipython",
    "version": 3
   },
   "file_extension": ".py",
   "mimetype": "text/x-python",
   "name": "python",
   "nbconvert_exporter": "python",
   "pygments_lexer": "ipython3",
   "version": "3.8.2"
  }
 },
 "nbformat": 4,
 "nbformat_minor": 5
}