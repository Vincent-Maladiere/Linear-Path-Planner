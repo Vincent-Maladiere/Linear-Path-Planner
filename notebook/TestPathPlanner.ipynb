{
 "cells": [
  {
   "cell_type": "markdown",
   "id": "5a0b9168",
   "metadata": {},
   "source": [
    "## Inport Libs"
   ]
  },
  {
   "cell_type": "code",
   "execution_count": null,
   "id": "55da57e4",
   "metadata": {},
   "outputs": [],
   "source": [
    "import sys\n",
    "sys.path.append(\"..\")\n",
    "\n",
    "from shapely.geometry import Point, LineString\n",
    "\n",
    "from src.parsing.google_earth_parser import GoogleEarthParser\n",
    "from src.fleet import Fleet\n",
    "\n",
    "%load_ext autoreload\n",
    "%autoreload 2"
   ]
  },
  {
   "cell_type": "markdown",
   "id": "8a634b8f",
   "metadata": {},
   "source": [
    "## Parse our KML File"
   ]
  },
  {
   "cell_type": "code",
   "execution_count": null,
   "id": "36dfb8be",
   "metadata": {},
   "outputs": [],
   "source": [
    "parser = GoogleEarthParser(workdir=\"../test\")\n",
    "parcel_group = parser.get_parcel_group(\"../test/MobileFence2.kml\")\n",
    "parcel_group.split_small_obstacles()\n",
    "parcel_group.plot_parcels()"
   ]
  },
  {
   "cell_type": "markdown",
   "id": "2b8ec361",
   "metadata": {},
   "source": [
    "## Let's choose a watertank position"
   ]
  },
  {
   "cell_type": "code",
   "execution_count": null,
   "id": "56e07269",
   "metadata": {},
   "outputs": [],
   "source": [
    "parcel_1 = parcel_group.dict_parcel[\"parcel 1\"]\n",
    "parcel_1.water_tanks = [Point(-5, -460).buffer(3)]\n",
    "parcel_1.ls_sweep_axis = LineString([(-50, -470), (100, -410)])\n",
    "parcel_1.small_obstacles = parcel_1.obstacles\n",
    "parcel_1.plot()"
   ]
  },
  {
   "cell_type": "markdown",
   "id": "d2ef98ae",
   "metadata": {},
   "source": [
    "## Run algo"
   ]
  },
  {
   "cell_type": "code",
   "execution_count": null,
   "id": "937163ac",
   "metadata": {},
   "outputs": [],
   "source": [
    "fleet = Fleet(\"../test\")\n",
    "fleet.forward(parcel_1)\n",
    "fleet.plot()"
   ]
  },
  {
   "cell_type": "markdown",
   "id": "0d3d1078",
   "metadata": {},
   "source": [
    "## Make gif"
   ]
  },
  {
   "cell_type": "code",
   "execution_count": null,
   "id": "28316a89",
   "metadata": {
    "scrolled": false
   },
   "outputs": [],
   "source": [
    "fleet.make_gif()"
   ]
  },
  {
   "cell_type": "markdown",
   "id": "4f954982",
   "metadata": {},
   "source": [
    "## Visualize Sequence"
   ]
  },
  {
   "cell_type": "code",
   "execution_count": null,
   "id": "778ef894",
   "metadata": {},
   "outputs": [],
   "source": [
    "fleet.sequence.plot(False)"
   ]
  },
  {
   "cell_type": "code",
   "execution_count": null,
   "id": "e567cb98",
   "metadata": {},
   "outputs": [],
   "source": []
  }
 ],
 "metadata": {
  "kernelspec": {
   "display_name": "Python 3 (ipykernel)",
   "language": "python",
   "name": "python3"
  },
  "language_info": {
   "codemirror_mode": {
    "name": "ipython",
    "version": 3
   },
   "file_extension": ".py",
   "mimetype": "text/x-python",
   "name": "python",
   "nbconvert_exporter": "python",
   "pygments_lexer": "ipython3",
   "version": "3.8.2"
  }
 },
 "nbformat": 4,
 "nbformat_minor": 5
}
